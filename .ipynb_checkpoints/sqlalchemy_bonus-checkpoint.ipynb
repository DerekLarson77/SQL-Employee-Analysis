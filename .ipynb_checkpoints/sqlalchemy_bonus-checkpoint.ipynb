{
 "cells": [
  {
   "cell_type": "code",
   "execution_count": 35,
   "metadata": {},
   "outputs": [],
   "source": [
    "from sqlalchemy import create_engine\n",
    "from sqlalchemy import inspect\n",
    "#import sqlalchemy\n",
    "import urllib.parse"
   ]
  },
  {
   "cell_type": "code",
   "execution_count": 45,
   "metadata": {},
   "outputs": [
    {
     "name": "stdout",
     "output_type": "stream",
     "text": [
      "['dept_emp', 'departments', 'dept_manager', 'salaries', 'titles', 'employees']\n"
     ]
    }
   ],
   "source": [
    "dialect = 'postgresql'\n",
    "driver = 'psycopg2'\n",
    "username = 'postgres'\n",
    "password = 'EDBpass'\n",
    "host = 'localhost'\n",
    "port = '5432'\n",
    "db_name = 'EmployeeSQL'\n",
    "\n",
    "username = urllib.parse.quote_plus(username)\n",
    "password = urllib.parse.quote_plus(password)\n",
    "\n",
    "\n",
    "engine = create_engine(dialect + '+' + driver + '://' + username + ':' + password + '@' + host + ':' + port + '/' + db_name)\n",
    "connection = engine.connect()\n",
    "print (engine.table_names())"
   ]
  },
  {
   "cell_type": "code",
   "execution_count": 44,
   "metadata": {},
   "outputs": [
    {
     "name": "stdout",
     "output_type": "stream",
     "text": [
      "Table 1: dept_emp\n",
      "Column: {'name': 'emp_no', 'type': INTEGER(), 'nullable': True, 'default': None, 'autoincrement': False, 'comment': None}\n",
      "Column: {'name': 'dept_no', 'type': CHAR(length=4), 'nullable': True, 'default': None, 'autoincrement': False, 'comment': None}\n",
      "Table 2: departments\n",
      "Column: {'name': 'dept_no', 'type': CHAR(length=4), 'nullable': False, 'default': None, 'autoincrement': False, 'comment': None}\n",
      "Column: {'name': 'dept_name', 'type': VARCHAR(), 'nullable': False, 'default': None, 'autoincrement': False, 'comment': None}\n",
      "Table 3: dept_manager\n",
      "Column: {'name': 'dept_no', 'type': CHAR(length=4), 'nullable': True, 'default': None, 'autoincrement': False, 'comment': None}\n",
      "Column: {'name': 'emp_no', 'type': INTEGER(), 'nullable': True, 'default': None, 'autoincrement': False, 'comment': None}\n",
      "Table 4: salaries\n",
      "Column: {'name': 'emp_no', 'type': INTEGER(), 'nullable': True, 'default': None, 'autoincrement': False, 'comment': None}\n",
      "Column: {'name': 'salary', 'type': MONEY(), 'nullable': False, 'default': None, 'autoincrement': False, 'comment': None}\n",
      "Table 5: titles\n",
      "Column: {'name': 'title_id', 'type': CHAR(length=5), 'nullable': False, 'default': None, 'autoincrement': False, 'comment': None}\n",
      "Column: {'name': 'title', 'type': VARCHAR(), 'nullable': False, 'default': None, 'autoincrement': False, 'comment': None}\n",
      "Table 6: employees\n",
      "Column: {'name': 'emp_no', 'type': INTEGER(), 'nullable': False, 'default': None, 'autoincrement': False, 'comment': None}\n",
      "Column: {'name': 'emp_title_id', 'type': CHAR(length=5), 'nullable': True, 'default': None, 'autoincrement': False, 'comment': None}\n",
      "Column: {'name': 'birth_date', 'type': DATE(), 'nullable': True, 'default': None, 'autoincrement': False, 'comment': None}\n",
      "Column: {'name': 'first_name', 'type': VARCHAR(), 'nullable': False, 'default': None, 'autoincrement': False, 'comment': None}\n",
      "Column: {'name': 'last_name', 'type': VARCHAR(), 'nullable': False, 'default': None, 'autoincrement': False, 'comment': None}\n",
      "Column: {'name': 'sex', 'type': CHAR(length=1), 'nullable': True, 'default': None, 'autoincrement': False, 'comment': None}\n",
      "Column: {'name': 'hire_date', 'type': DATE(), 'nullable': True, 'default': None, 'autoincrement': False, 'comment': None}\n"
     ]
    }
   ],
   "source": [
    "inspector = inspect(engine)\n",
    "\n",
    "for index, table_name in enumerate(inspector.get_table_names(schema='public')):\n",
    "    print(\"Table \" + str(index + 1) + \": %s\" % table_name)\n",
    "    for column in inspector.get_columns(table_name, schema='public'):\n",
    "        print(\"Column: %s\" % column)"
   ]
  },
  {
   "cell_type": "code",
   "execution_count": null,
   "metadata": {},
   "outputs": [],
   "source": []
  }
 ],
 "metadata": {
  "kernelspec": {
   "display_name": "Python [conda env:PythonData] *",
   "language": "python",
   "name": "conda-env-PythonData-py"
  },
  "language_info": {
   "codemirror_mode": {
    "name": "ipython",
    "version": 3
   },
   "file_extension": ".py",
   "mimetype": "text/x-python",
   "name": "python",
   "nbconvert_exporter": "python",
   "pygments_lexer": "ipython3",
   "version": "3.6.10"
  }
 },
 "nbformat": 4,
 "nbformat_minor": 4
}
